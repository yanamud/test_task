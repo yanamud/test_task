{
  "metadata": {
    "kernelspec": {
      "language": "python",
      "display_name": "Python 3",
      "name": "python3"
    },
    "language_info": {
      "name": "python",
      "version": "3.10.14",
      "mimetype": "text/x-python",
      "codemirror_mode": {
        "name": "ipython",
        "version": 3
      },
      "pygments_lexer": "ipython3",
      "nbconvert_exporter": "python",
      "file_extension": ".py"
    },
    "kaggle": {
      "accelerator": "none",
      "dataSources": [
        {
          "sourceId": 86878,
          "databundleVersionId": 9856060,
          "sourceType": "competition"
        }
      ],
      "dockerImageVersionId": 30786,
      "isInternetEnabled": false,
      "language": "python",
      "sourceType": "notebook",
      "isGpuEnabled": false
    },
    "colab": {
      "provenance": []
    }
  },
  "nbformat_minor": 0,
  "nbformat": 4,
  "cells": [
    {
      "source": [
        "# IMPORTANT: SOME KAGGLE DATA SOURCES ARE PRIVATE\n",
        "# RUN THIS CELL IN ORDER TO IMPORT YOUR KAGGLE DATA SOURCES.\n",
        "import kagglehub\n",
        "kagglehub.login()\n"
      ],
      "metadata": {
        "id": "LFXF0jbH5LRW"
      },
      "cell_type": "code",
      "outputs": [],
      "execution_count": null
    },
    {
      "source": [
        "# IMPORTANT: RUN THIS CELL IN ORDER TO IMPORT YOUR KAGGLE DATA SOURCES,\n",
        "# THEN FEEL FREE TO DELETE THIS CELL.\n",
        "# NOTE: THIS NOTEBOOK ENVIRONMENT DIFFERS FROM KAGGLE'S PYTHON\n",
        "# ENVIRONMENT SO THERE MAY BE MISSING LIBRARIES USED BY YOUR\n",
        "# NOTEBOOK.\n",
        "\n",
        "test_task_for_ds_time_series_forecasting_2024_10_path = kagglehub.competition_download('test-task-for-ds-time-series-forecasting-2024-10')\n",
        "\n",
        "print('Data source import complete.')\n"
      ],
      "metadata": {
        "id": "RlZA5Ldl5LRY"
      },
      "cell_type": "code",
      "outputs": [],
      "execution_count": null
    },
    {
      "cell_type": "code",
      "source": [
        "#Завантаження бібліотек\n",
        "\n",
        "import pandas as pd\n",
        "import numpy as np\n",
        "import holidays\n",
        "import statsmodels.api as sm\n",
        "from prophet import Prophet\n",
        "import optuna\n",
        "from sklearn.metrics import mean_absolute_error, mean_squared_error, median_absolute_error"
      ],
      "metadata": {
        "execution": {
          "iopub.status.busy": "2024-10-26T17:14:02.133807Z",
          "iopub.execute_input": "2024-10-26T17:14:02.134311Z",
          "iopub.status.idle": "2024-10-26T17:14:03.845649Z",
          "shell.execute_reply.started": "2024-10-26T17:14:02.134269Z",
          "shell.execute_reply": "2024-10-26T17:14:03.84405Z"
        },
        "trusted": true,
        "id": "8WwLCD7S5LRZ"
      },
      "execution_count": null,
      "outputs": []
    },
    {
      "cell_type": "code",
      "source": [
        "#Завантаження датасету\n",
        "\n",
        "csv_path = '/kaggle/input/test-task-for-ds-time-series-forecasting-2024-10/ts_hist.csv'\n",
        "df = pd.read_csv(csv_path)\n",
        "data = df.copy()"
      ],
      "metadata": {
        "execution": {
          "iopub.status.busy": "2024-10-26T17:14:03.853829Z",
          "iopub.execute_input": "2024-10-26T17:14:03.854407Z",
          "iopub.status.idle": "2024-10-26T17:14:04.37339Z",
          "shell.execute_reply.started": "2024-10-26T17:14:03.854346Z",
          "shell.execute_reply": "2024-10-26T17:14:04.372132Z"
        },
        "trusted": true,
        "id": "6e4MWw4r5LRa"
      },
      "execution_count": null,
      "outputs": []
    },
    {
      "cell_type": "code",
      "source": [
        "# Перегляд даних в датаседі\n",
        "\n",
        "data.head()"
      ],
      "metadata": {
        "execution": {
          "iopub.status.busy": "2024-10-26T17:14:04.375371Z",
          "iopub.execute_input": "2024-10-26T17:14:04.37594Z",
          "iopub.status.idle": "2024-10-26T17:14:04.402168Z",
          "shell.execute_reply.started": "2024-10-26T17:14:04.375882Z",
          "shell.execute_reply": "2024-10-26T17:14:04.400722Z"
        },
        "trusted": true,
        "id": "usu5rbaQ5LRa"
      },
      "execution_count": null,
      "outputs": []
    },
    {
      "cell_type": "code",
      "source": [
        "#Перевірка наявності порожніх значень\n",
        "\n",
        "data.isna().sum()"
      ],
      "metadata": {
        "execution": {
          "iopub.status.busy": "2024-10-26T17:14:04.405596Z",
          "iopub.execute_input": "2024-10-26T17:14:04.405997Z",
          "iopub.status.idle": "2024-10-26T17:14:04.584438Z",
          "shell.execute_reply.started": "2024-10-26T17:14:04.405958Z",
          "shell.execute_reply": "2024-10-26T17:14:04.583056Z"
        },
        "trusted": true,
        "id": "_86s5GUG5LRa"
      },
      "execution_count": null,
      "outputs": []
    },
    {
      "cell_type": "code",
      "source": [
        "# Заповнення NaN пустими рядками\n",
        "\n",
        "data = data.fillna(\"\")"
      ],
      "metadata": {
        "execution": {
          "iopub.status.busy": "2024-10-26T17:14:04.586085Z",
          "iopub.execute_input": "2024-10-26T17:14:04.586579Z",
          "iopub.status.idle": "2024-10-26T17:14:04.835914Z",
          "shell.execute_reply.started": "2024-10-26T17:14:04.586527Z",
          "shell.execute_reply": "2024-10-26T17:14:04.834546Z"
        },
        "trusted": true,
        "id": "TqM1Y_Gv5LRb"
      },
      "execution_count": null,
      "outputs": []
    },
    {
      "cell_type": "code",
      "source": [
        "# Створення переліку унікальних кодів товарів ('index')\n",
        "\n",
        "unique_indexes = data['index'].unique()"
      ],
      "metadata": {
        "execution": {
          "iopub.status.busy": "2024-10-26T17:14:04.837607Z",
          "iopub.execute_input": "2024-10-26T17:14:04.838093Z",
          "iopub.status.idle": "2024-10-26T17:14:04.865634Z",
          "shell.execute_reply.started": "2024-10-26T17:14:04.838049Z",
          "shell.execute_reply": "2024-10-26T17:14:04.864358Z"
        },
        "trusted": true,
        "id": "b3GGLp4B5LRb"
      },
      "execution_count": null,
      "outputs": []
    },
    {
      "cell_type": "code",
      "source": [
        "# Перевірка наявності для кожного продукту ('index') всіх дат\n",
        "# в проміжку між потатковою датою та '2016-05-15'\n",
        "# '2016-05-15' - дата, станом на яку надано інформацію\n",
        "# прогноз буде проводитись на тиждень з 2016-05-16 по 2016-05-22\n",
        "\n",
        "# Створення порожнього DataFrame для зберігання загальних результатів\n",
        "results = []\n",
        "\n",
        "for product in unique_indexes:\n",
        "    # Фільтрування даних окремо для кожного товару\n",
        "    product_data = data[data['index'] == product]\n",
        "    product_data = product_data.sort_values('date')\n",
        "\n",
        "    product_data = product_data.drop(columns=['index', 'store_id', 'cat_id', 'dept_id','item_id',\n",
        "                                              'event_name_1','event_type_1','event_name_2','event_type_2'])\n",
        "\n",
        "\n",
        "    # Перетворення значення в формат дати\n",
        "    product_data['date'] = pd.to_datetime(product_data['date'])\n",
        "\n",
        "    # Встановлення date як індексу\n",
        "    product_data.set_index('date', inplace=True)\n",
        "\n",
        "    # Цільова дата\n",
        "    target_date = pd.Timestamp('2016-05-15')\n",
        "\n",
        "    # Створення нового індексу, який включатиме всі дати до цільової дати\n",
        "    new_index = pd.date_range(start=product_data.index.min(),\n",
        "                              end=target_date,\n",
        "                              freq='D',\n",
        "                              name='date')\n",
        "\n",
        "    # Переіндексування DataFrame\n",
        "    product_data = product_data.reindex(new_index)\n",
        "\n",
        "    # Заповнення пропуски в колонці 'qnt' нулями\n",
        "    product_data['qnt'] = product_data['qnt'].fillna(value=0)\n",
        "    product_data['index'] = product\n",
        "\n",
        "    # Виконання декомпозиції\n",
        "    try:\n",
        "        decomp = sm.tsa.seasonal_decompose(product_data['qnt'], model='additive')\n",
        "\n",
        "\n",
        "        # Додавання результату до списку\n",
        "        results.append(product_data)\n",
        "\n",
        "    except Exception as e:\n",
        "        print(f\"Error processing {product}: {e}\")\n",
        "\n",
        "# Об'єднання всіх результатів\n",
        "data = pd.concat(results)\n",
        "data['qnt'] = data['qnt'].round().astype(int)\n",
        "\n",
        "data"
      ],
      "metadata": {
        "execution": {
          "iopub.status.busy": "2024-10-26T17:14:04.867621Z",
          "iopub.execute_input": "2024-10-26T17:14:04.868154Z",
          "iopub.status.idle": "2024-10-26T17:14:26.022074Z",
          "shell.execute_reply.started": "2024-10-26T17:14:04.868109Z",
          "shell.execute_reply": "2024-10-26T17:14:26.020709Z"
        },
        "trusted": true,
        "id": "KP8PpY_f5LRc"
      },
      "execution_count": null,
      "outputs": []
    },
    {
      "cell_type": "code",
      "source": [
        "#Попередня обробка даних\n",
        "\n",
        "# Перетворення date у формат datetime\n",
        "data = data.reset_index()\n",
        "data['date'] = pd.to_datetime(data['date'])\n",
        "\n",
        "# Створення вітмітки чи святковий день\n",
        "uk_holidays = holidays.UK()\n",
        "data['is_holiday'] = data['date'].apply(lambda x: 1 if x in uk_holidays else 0)\n",
        "\n",
        "# Агрегація даних до тижневого рівня з урахуванням 'index'\n",
        "weekly_data = data.groupby(['index', pd.Grouper(key='date', freq='W-Mon')])['qnt'].sum().reset_index()\n",
        "\n",
        "# Ступеневе перетворення для стабілізації дисперсії\n",
        "weekly_data['log_qnt'] = np.sqrt(weekly_data['qnt'])\n",
        "\n",
        "# Створення додаткових ознак лагів\n",
        "weekly_data['lag_1'] = weekly_data.groupby('index')['log_qnt'].shift(1)\n",
        "weekly_data['lag_2'] = weekly_data.groupby('index')['log_qnt'].shift(2)\n",
        "weekly_data['lag_3'] = weekly_data.groupby('index')['log_qnt'].shift(3)\n",
        "weekly_data['lag_4'] = weekly_data.groupby('index')['log_qnt'].shift(4)\n",
        "weekly_data['lag_5'] = weekly_data.groupby('index')['log_qnt'].shift(5)\n",
        "weekly_data['lag_6'] = weekly_data.groupby('index')['log_qnt'].shift(6)\n",
        "weekly_data['lag_7'] = weekly_data.groupby('index')['log_qnt'].shift(7)\n",
        "weekly_data['lag_8'] = weekly_data.groupby('index')['log_qnt'].shift(8)\n",
        "\n",
        "# Заміна NaN значення в лагах нулями\n",
        "weekly_data.fillna(0, inplace=True)\n"
      ],
      "metadata": {
        "execution": {
          "iopub.status.busy": "2024-10-26T17:14:26.024172Z",
          "iopub.execute_input": "2024-10-26T17:14:26.024722Z",
          "iopub.status.idle": "2024-10-26T17:14:28.548512Z",
          "shell.execute_reply.started": "2024-10-26T17:14:26.024646Z",
          "shell.execute_reply": "2024-10-26T17:14:28.54722Z"
        },
        "trusted": true,
        "id": "gM-R-8875LRc"
      },
      "execution_count": null,
      "outputs": []
    },
    {
      "cell_type": "code",
      "source": [
        "#Обрабка категоріальних змін\n",
        "\n",
        "weekly_data['category'] = weekly_data['index'].apply(lambda x: 0 if 'FOODS' in x else\n",
        "                                                               (2 if 'HOBBIES' in x else\n",
        "                                                               (1 if 'HOUSEHOLD' in x else None)))\n",
        "\n",
        "weekly_data['index_split'] = weekly_data['index'].str.split('_')\n",
        "weekly_data['store_id'] = weekly_data['index_split'].apply(lambda x: x[0])\n",
        "weekly_data['dept_id'] = weekly_data['index_split'].apply(lambda x: x[2])\n",
        "weekly_data['item_id'] = weekly_data['index_split'].apply(lambda x: x[3])\n",
        "weekly_data = weekly_data.drop(columns=['index_split'])\n",
        "\n",
        "weekly_data['dept_id'] = weekly_data['dept_id'].astype(int)\n",
        "weekly_data['store_id'] = weekly_data['store_id'].astype(int)\n",
        "weekly_data['item_id'] = weekly_data['item_id'].astype(int)"
      ],
      "metadata": {
        "execution": {
          "iopub.status.busy": "2024-10-26T17:14:28.550283Z",
          "iopub.execute_input": "2024-10-26T17:14:28.550733Z",
          "iopub.status.idle": "2024-10-26T17:14:28.741359Z",
          "shell.execute_reply.started": "2024-10-26T17:14:28.55067Z",
          "shell.execute_reply": "2024-10-26T17:14:28.739751Z"
        },
        "trusted": true,
        "id": "rOJPt88f5LRd"
      },
      "execution_count": null,
      "outputs": []
    },
    {
      "cell_type": "code",
      "source": [
        "print(weekly_data.dtypes)"
      ],
      "metadata": {
        "execution": {
          "iopub.status.busy": "2024-10-26T17:14:28.743311Z",
          "iopub.execute_input": "2024-10-26T17:14:28.743906Z",
          "iopub.status.idle": "2024-10-26T17:14:28.753112Z",
          "shell.execute_reply.started": "2024-10-26T17:14:28.743847Z",
          "shell.execute_reply": "2024-10-26T17:14:28.751793Z"
        },
        "trusted": true,
        "id": "Dlli91Qz5LRd"
      },
      "execution_count": null,
      "outputs": []
    },
    {
      "cell_type": "code",
      "source": [
        "#Створення датасету з переліком тижнів, у яких є святкові дні\n",
        "\n",
        "holidays_data = data.groupby(['index', pd.Grouper(key='date', freq='W-Mon')])['is_holiday'].sum().reset_index()\n",
        "\n",
        "# Фільтрація записів, де дні відмічені як святкові\n",
        "holidays_data = holidays_data.query('is_holiday == 1')\n",
        "\n",
        "# Створення колонки 'holiday' і заповнення значенням 'holiday'\n",
        "# (для по дальшого використання в моделі)\n",
        "\n",
        "holidays_data['holiday'] = 'holiday'\n",
        "holidays_data = holidays_data[['date', 'holiday']]\n",
        "holidays_data = holidays_data.rename(columns={'date': 'ds'})\n",
        "\n",
        "# Вивід результату\n",
        "print(holidays_data)"
      ],
      "metadata": {
        "execution": {
          "iopub.status.busy": "2024-10-26T17:14:28.7548Z",
          "iopub.execute_input": "2024-10-26T17:14:28.755214Z",
          "iopub.status.idle": "2024-10-26T17:14:29.018111Z",
          "shell.execute_reply.started": "2024-10-26T17:14:28.755173Z",
          "shell.execute_reply": "2024-10-26T17:14:29.016458Z"
        },
        "trusted": true,
        "id": "m2LdgS9g5LRd"
      },
      "execution_count": null,
      "outputs": []
    },
    {
      "cell_type": "code",
      "source": [
        "#Перевірка чи є свята в тижні, на який робиться прогноз\n",
        "\n",
        "# Визначення переліку свят\n",
        "uk_holidays = holidays.UK()\n",
        "\n",
        "# Період для прогнозу\n",
        "start_date = pd.Timestamp('2016-05-16')\n",
        "end_date = pd.Timestamp('2016-05-22')\n",
        "date_range = pd.date_range(start=start_date, end=end_date)\n",
        "\n",
        "# Перевірка, чи є свята в періоді\n",
        "holidays_in_period = [date for date in date_range if date in uk_holidays]\n",
        "\n",
        "if holidays_in_period:\n",
        "    print(\"Є свята у вказаному періоді:\")\n",
        "    for holiday in holidays_in_period:\n",
        "        print(f\"{holiday.date()} - {uk_holidays[holiday]}\")\n",
        "else:\n",
        "    print(\"Свят у вказаному періоді немає.\")"
      ],
      "metadata": {
        "execution": {
          "iopub.status.busy": "2024-10-26T17:14:29.02025Z",
          "iopub.execute_input": "2024-10-26T17:14:29.020668Z",
          "iopub.status.idle": "2024-10-26T17:14:29.032221Z",
          "shell.execute_reply.started": "2024-10-26T17:14:29.020628Z",
          "shell.execute_reply": "2024-10-26T17:14:29.030506Z"
        },
        "trusted": true,
        "id": "gUulMmod5LRd"
      },
      "execution_count": null,
      "outputs": []
    },
    {
      "cell_type": "code",
      "source": [
        "#Для тестування на кількох товарах\n",
        "\n",
        "#unique_indexes = data['index'].unique()\n",
        "#unique_indexes = unique_indexes[49::50]\n",
        "#len(unique_indexes)"
      ],
      "metadata": {
        "execution": {
          "iopub.status.busy": "2024-10-26T17:14:29.037207Z",
          "iopub.execute_input": "2024-10-26T17:14:29.037661Z",
          "iopub.status.idle": "2024-10-26T17:14:29.086781Z",
          "shell.execute_reply.started": "2024-10-26T17:14:29.037618Z",
          "shell.execute_reply": "2024-10-26T17:14:29.085312Z"
        },
        "trusted": true,
        "id": "uzzcAJUa5LRd"
      },
      "execution_count": null,
      "outputs": []
    },
    {
      "cell_type": "code",
      "source": [
        "# Глобальний DataFrame для зберігання прогнозів\n",
        "all_forecasts = pd.DataFrame()\n",
        "\n",
        "def objective(trial, product_index, weekly_data):\n",
        "    global all_forecasts  # Доступ до глобального DataFrame\n",
        "\n",
        "    validation_data = weekly_data[weekly_data['date'] == '2016-05-16']\n",
        "    train_data = weekly_data[weekly_data['date'] != '2016-05-16']\n",
        "\n",
        "    # Оптимізація параметрів\n",
        "    changepoint_prior_scale = trial.suggest_float(\n",
        "            'changepoint_prior_scale', 0.001, 0.5, log=True\n",
        "        ) if trial.number > 0 else 0.05\n",
        "\n",
        "    seasonality_prior_scale = trial.suggest_float(\n",
        "                'seasonality_prior_scale', 0.01, 10.0, log=True\n",
        "            ) if trial.number > 0 else 1.0\n",
        "\n",
        "    seasonality_mode = trial.suggest_categorical(\n",
        "                'seasonality_mode', ['additive', 'multiplicative']\n",
        "            ) if trial.number > 0 else 'additive'\n",
        "\n",
        "    holidays_prior_scale = trial.suggest_float(\n",
        "                'holidays_prior_scale', 0.01, 10.0, log=True\n",
        "            ) if trial.number > 0 else 1.0\n",
        "\n",
        "    # Підготовка даних\n",
        "    subset_train_data = train_data[train_data['index'] == product_index]\n",
        "    subset_validation_data = validation_data[validation_data['index'] == product_index]\n",
        "\n",
        "    # Перевірка, чи є дані для навчання та валідації\n",
        "    if subset_train_data.empty or subset_validation_data.empty:\n",
        "        return float('inf')  # Якщо немає даних, повертаємо \"поганий\" результат\n",
        "\n",
        "    # Створення моделі Prophet\n",
        "    model = Prophet(holidays=holidays_data,\n",
        "            changepoint_prior_scale=changepoint_prior_scale,\n",
        "            seasonality_prior_scale=seasonality_prior_scale,\n",
        "            seasonality_mode=seasonality_mode,\n",
        "            holidays_prior_scale=holidays_prior_scale)\n",
        "\n",
        "    # Додавання регресорів\n",
        "    model.add_regressor('store_id')\n",
        "    model.add_regressor('dept_id')\n",
        "    model.add_regressor('item_id')\n",
        "    model.add_regressor('category')\n",
        "\n",
        "    # Додавання лагів\n",
        "    for lag in range(1, 9):\n",
        "        model.add_regressor(f'lag_{lag}')\n",
        "\n",
        "    # Підготовка даних для моделі\n",
        "    prophet_data = subset_train_data.rename(columns={'date': 'ds', 'qnt': 'y'})\n",
        "\n",
        "    model.fit(prophet_data)\n",
        "\n",
        "    # Прогнозування\n",
        "    future_dates = model.make_future_dataframe(periods=2, freq='W-Mon')\n",
        "\n",
        "    # Додавання додаткових ознак\n",
        "    for lag in range(1, 9):\n",
        "        future_dates[f'lag_{lag}'] = subset_train_data[f'lag_{lag}'].iloc[-1]\n",
        "\n",
        "    future_dates['store_id'] = subset_train_data['store_id'].iloc[-1]\n",
        "    future_dates['dept_id'] = subset_train_data['dept_id'].iloc[-1]\n",
        "    future_dates['item_id'] = subset_train_data['item_id'].iloc[-1]\n",
        "    future_dates['category'] = subset_train_data['category'].iloc[-1]\n",
        "\n",
        "    forecast = model.predict(future_dates)\n",
        "\n",
        "    # Вибір прогнозу для валідаційних даних (перший тиждень)\n",
        "    validation_forecast = forecast.tail(2)  # Останні 2 рядки є прогнозом на 2 тижні\n",
        "    validation_forecast = validation_forecast.reset_index(drop=True)\n",
        "\n",
        "    # Збереження прогнозу на другий тиждень у глобальний DataFrame\n",
        "    second_week_forecast = validation_forecast.iloc[1]  # Другий рядок є прогнозом на другий тиждень\n",
        "    second_week_forecast_df = pd.DataFrame(second_week_forecast).T\n",
        "    second_week_forecast_df['index'] = product_index\n",
        "    all_forecasts = pd.concat([all_forecasts, second_week_forecast_df], ignore_index=True)\n",
        "\n",
        "    # Вибір відповідних значень для MAE\n",
        "    actual_values = subset_validation_data['qnt'].values\n",
        "    predicted_values = validation_forecast['yhat'].values[:len(actual_values)]\n",
        "\n",
        "    mae = mean_absolute_error(actual_values, predicted_values)\n",
        "\n",
        "    # Збереження прогнозу і помилки mae у DataFrame\n",
        "    validation_forecast['mae'] = mae\n",
        "    validation_forecast['index'] = product_index\n",
        "    return validation_forecast\n",
        "\n",
        "\n",
        "def optimize_parameters_for_product(product_index, weekly_data):\n",
        "    temp_forecasts = []  # Список для збереження всіх прогнозів для кожного trial\n",
        "\n",
        "    def objective_with_save(trial):\n",
        "        forecast = objective(trial, product_index, weekly_data)\n",
        "        temp_forecasts.append(forecast)  # Зберігаємо прогноз у список\n",
        "        return forecast['mae'].iloc[0]  # Повертаємо тільки помилку mae\n",
        "\n",
        "    study = optuna.create_study(direction='minimize')\n",
        "    study.optimize(objective_with_save, n_trials=50)\n",
        "\n",
        "    # Отримуємо найкращий прогноз для даного продукту\n",
        "    best_forecast = min(temp_forecasts, key=lambda x: x['mae'].iloc[0])\n",
        "\n",
        "    global all_forecasts\n",
        "    all_forecasts = pd.concat([all_forecasts, best_forecast], ignore_index=True)\n",
        "\n",
        "# Виклик оптимізації для кожного продукту\n",
        "for product_index in unique_indexes:\n",
        "    optimize_parameters_for_product(product_index, weekly_data)"
      ],
      "metadata": {
        "execution": {
          "iopub.status.busy": "2024-10-26T17:14:29.088672Z",
          "iopub.execute_input": "2024-10-26T17:14:29.089172Z",
          "iopub.status.idle": "2024-10-26T17:15:09.470169Z",
          "shell.execute_reply.started": "2024-10-26T17:14:29.089129Z",
          "shell.execute_reply": "2024-10-26T17:15:09.468758Z"
        },
        "trusted": true,
        "id": "9HwqIpvM5LRe"
      },
      "execution_count": null,
      "outputs": []
    },
    {
      "cell_type": "code",
      "source": [
        "#Перевірка результату\n",
        "all_forecasts[['index','yhat','mae' ]]"
      ],
      "metadata": {
        "execution": {
          "iopub.status.busy": "2024-10-26T17:15:09.472324Z",
          "iopub.execute_input": "2024-10-26T17:15:09.472894Z",
          "iopub.status.idle": "2024-10-26T17:15:09.494271Z",
          "shell.execute_reply.started": "2024-10-26T17:15:09.472832Z",
          "shell.execute_reply": "2024-10-26T17:15:09.492802Z"
        },
        "trusted": true,
        "id": "dwUR9PuY5LRe"
      },
      "execution_count": null,
      "outputs": []
    },
    {
      "cell_type": "code",
      "source": [
        "# Обробка результату\n",
        "one_week_forecasts = all_forecasts[['index','yhat','mae']]\n",
        "one_week_forecasts = one_week_forecasts.dropna()\n",
        "one_week_forecasts"
      ],
      "metadata": {
        "execution": {
          "iopub.status.busy": "2024-10-26T17:15:09.496387Z",
          "iopub.execute_input": "2024-10-26T17:15:09.496874Z",
          "iopub.status.idle": "2024-10-26T17:15:09.515545Z",
          "shell.execute_reply.started": "2024-10-26T17:15:09.496829Z",
          "shell.execute_reply": "2024-10-26T17:15:09.513895Z"
        },
        "trusted": true,
        "id": "nQdEu6pk5LRe"
      },
      "execution_count": null,
      "outputs": []
    },
    {
      "cell_type": "code",
      "source": [
        "#збереження середнього значення прогнозу у разі наявності однакового MAE з різним прогнозом\n",
        "average_yhat = one_week_forecasts.groupby('index', as_index=False)['yhat'].mean()\n",
        "average_yhat.loc[:, 'yhat'] = average_yhat['yhat'].round().astype(int)\n",
        "average_yhat"
      ],
      "metadata": {
        "execution": {
          "iopub.status.busy": "2024-10-26T17:15:09.517632Z",
          "iopub.execute_input": "2024-10-26T17:15:09.518221Z",
          "iopub.status.idle": "2024-10-26T17:15:09.53914Z",
          "shell.execute_reply.started": "2024-10-26T17:15:09.518178Z",
          "shell.execute_reply": "2024-10-26T17:15:09.537295Z"
        },
        "trusted": true,
        "id": "lcSNSOvr5LRe"
      },
      "execution_count": null,
      "outputs": []
    },
    {
      "cell_type": "code",
      "source": [
        "# Збереження результатів в CSV файл\n",
        "average_yhat.to_csv('submission_aver.csv', index=False)"
      ],
      "metadata": {
        "execution": {
          "iopub.status.busy": "2024-10-26T17:15:09.541154Z",
          "iopub.execute_input": "2024-10-26T17:15:09.541791Z",
          "iopub.status.idle": "2024-10-26T17:15:09.554124Z",
          "shell.execute_reply.started": "2024-10-26T17:15:09.54163Z",
          "shell.execute_reply": "2024-10-26T17:15:09.55239Z"
        },
        "trusted": true,
        "id": "hr8ov6v55LRe"
      },
      "execution_count": null,
      "outputs": []
    },
    {
      "cell_type": "code",
      "source": [
        "#збереження максимального значення прогнозу у разі наявності однакового MAE з різним прогнозом\n",
        "top_yhat = one_week_forecasts.sort_values(by=['index', 'yhat'], ascending=False)\n",
        "top_yhat = top_yhat.drop_duplicates(subset=['index'], keep='first')\n",
        "\n",
        "top_yhat.loc[:, 'yhat'] = top_yhat['yhat'].round().astype(int)\n",
        "top_yhat"
      ],
      "metadata": {
        "execution": {
          "iopub.status.busy": "2024-10-26T17:15:09.55617Z",
          "iopub.execute_input": "2024-10-26T17:15:09.556822Z",
          "iopub.status.idle": "2024-10-26T17:15:09.578276Z",
          "shell.execute_reply.started": "2024-10-26T17:15:09.556753Z",
          "shell.execute_reply": "2024-10-26T17:15:09.57683Z"
        },
        "trusted": true,
        "id": "M8kt5Vdk5LRe"
      },
      "execution_count": null,
      "outputs": []
    },
    {
      "cell_type": "code",
      "source": [
        "# Збереження результатів в CSV файл\n",
        "top_yhat[['index','yhat']].to_csv('submission_max.csv', index=False)"
      ],
      "metadata": {
        "execution": {
          "iopub.status.busy": "2024-10-26T17:15:09.580199Z",
          "iopub.execute_input": "2024-10-26T17:15:09.581094Z",
          "iopub.status.idle": "2024-10-26T17:15:09.596482Z",
          "shell.execute_reply.started": "2024-10-26T17:15:09.581035Z",
          "shell.execute_reply": "2024-10-26T17:15:09.595108Z"
        },
        "trusted": true,
        "id": "CUh22Y1z5LRf"
      },
      "execution_count": null,
      "outputs": []
    },
    {
      "cell_type": "code",
      "source": [
        "#збереження мінімального значення прогнозу у разі наявності однакового MAE з різним прогнозом\n",
        "low_yhat = one_week_forecasts.sort_values(by=['index', 'yhat'])\n",
        "low_yhat = low_yhat.drop_duplicates(subset=['index'], keep='first')\n",
        "\n",
        "low_yhat.loc[:, 'yhat'] = low_yhat['yhat'].round().astype(int)\n",
        "low_yhat"
      ],
      "metadata": {
        "execution": {
          "iopub.status.busy": "2024-10-26T17:15:09.598279Z",
          "iopub.execute_input": "2024-10-26T17:15:09.598773Z",
          "iopub.status.idle": "2024-10-26T17:15:09.623069Z",
          "shell.execute_reply.started": "2024-10-26T17:15:09.598715Z",
          "shell.execute_reply": "2024-10-26T17:15:09.621545Z"
        },
        "trusted": true,
        "id": "lAddHfak5LRf"
      },
      "execution_count": null,
      "outputs": []
    },
    {
      "cell_type": "code",
      "source": [
        "# Збереження результатів в CSV файл\n",
        "low_yhat[['index','yhat']].to_csv('submission.csv', index=False)"
      ],
      "metadata": {
        "execution": {
          "iopub.status.busy": "2024-10-26T17:15:09.62479Z",
          "iopub.execute_input": "2024-10-26T17:15:09.625223Z",
          "iopub.status.idle": "2024-10-26T17:15:09.637788Z",
          "shell.execute_reply.started": "2024-10-26T17:15:09.625181Z",
          "shell.execute_reply": "2024-10-26T17:15:09.636299Z"
        },
        "trusted": true,
        "id": "MAAlHe-X5LRf"
      },
      "execution_count": null,
      "outputs": []
    }
  ]
}